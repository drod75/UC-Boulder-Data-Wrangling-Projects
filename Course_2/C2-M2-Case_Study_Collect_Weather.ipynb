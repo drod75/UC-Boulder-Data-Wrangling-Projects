{
  "cells": [
    {
      "cell_type": "markdown",
      "metadata": {
        "cell_id": "07a6c568ff8f4930903d52c122005f86",
        "deepnote_app_coordinates": {
          "h": 3,
          "w": 12,
          "x": 0,
          "y": 339
        },
        "deepnote_cell_type": "markdown",
        "id": "nSkNNdjljrRk"
      },
      "source": [
        "## Case study: Weather!"
      ]
    },
    {
      "cell_type": "markdown",
      "metadata": {
        "cell_id": "98e19241029546ca965bb35fa3193fa6",
        "deepnote_app_coordinates": {
          "h": 7,
          "w": 12,
          "x": 0,
          "y": 343
        },
        "deepnote_cell_type": "markdown",
        "id": "fPMMZ6bYgaK9"
      },
      "source": [
        "### Downloading weather data\n",
        "\n",
        "We now know enough to proceed with extracting information about the local weather from the National Weather Service website!\n",
        "\n",
        "The local weather of Boulder, CO is: https://forecast.weather.gov/MapClick.php?lat=40.0466&lon=-105.2523#.YwpRBy2B1f0\n",
        "\n",
        "Time to Start Scraping!"
      ]
    },
    {
      "cell_type": "markdown",
      "metadata": {
        "cell_id": "ede5553ca85b4aeab7ef9f7bbba80d25",
        "deepnote_app_coordinates": {
          "h": 8,
          "w": 12,
          "x": 0,
          "y": 351
        },
        "deepnote_cell_type": "markdown",
        "id": "El_nne8hiOji"
      },
      "source": [
        "We now know enough to download the page and start parsing it. In the below code, we will:\n",
        "\n",
        "*  Download the web page containing the forecast.\n",
        "*  Create a BeautifulSoup class to parse the page.\n",
        "*  Find the div with id seven-day-forecast, and assign to seven_day\n",
        "*  Inside seven_day, find each individual forecast item.\n",
        "Extract and print the first forecast item.\n"
      ]
    },
    {
      "cell_type": "code",
      "execution_count": 1,
      "metadata": {
        "cell_id": "0251b97a283b4132a9322a5b2ed7ad9d",
        "colab": {
          "base_uri": "https://localhost:8080/"
        },
        "deepnote_app_coordinates": {
          "h": 8,
          "w": 12,
          "x": 0,
          "y": 360
        },
        "deepnote_cell_type": "code",
        "deepnote_to_be_reexecuted": false,
        "execution_millis": 1121,
        "execution_start": 1661620601128,
        "id": "Ki5gXH1Ri9fV",
        "outputId": "be1f5cae-945b-4d8c-a3f9-dbf66e84e444",
        "source_hash": "4eba753d"
      },
      "outputs": [
        {
          "name": "stdout",
          "output_type": "stream",
          "text": [
            "[<div class=\"tombstone-container\"><p class=\"period-name\">Today</p><p><img alt=\"Today: Mostly sunny, with a high near 57. Breezy, with a west wind 15 to 20 mph. \" class=\"forecast-icon\" src=\"newimages/medium/wind_sct.png\" title=\"Today: Mostly sunny, with a high near 57. Breezy, with a west wind 15 to 20 mph. \"/></p><p class=\"temp temp-high\">High: 57 °F</p><p class=\"short-desc\">Mostly Sunny<br/>and Breezy</p></div>, <div class=\"tombstone-container\"><p class=\"period-name\">Tonight</p><p><img alt=\"Tonight: A chance of rain showers after 11pm, mixing with snow after 4am.  Partly cloudy, with a low around 34. Windy, with a west wind 14 to 19 mph increasing to 27 to 32 mph after midnight.  Chance of precipitation is 30%. Little or no snow accumulation expected. \" class=\"forecast-icon\" src=\"DualImage.php?i=hi_nshwrs&amp;j=nrasn&amp;ip=30&amp;jp=30\" title=\"Tonight: A chance of rain showers after 11pm, mixing with snow after 4am.  Partly cloudy, with a low around 34. Windy, with a west wind 14 to 19 mph increasing to 27 to 32 mph after midnight.  Chance of precipitation is 30%. Little or no snow accumulation expected. \"/></p><p class=\"temp temp-low\">Low: 34 °F</p><p class=\"short-desc\">Windy. Chance<br/>Showers then<br/>Chance<br/>Rain/Snow</p></div>, <div class=\"tombstone-container\"><p class=\"period-name\">Monday</p><p><img alt=\"Monday: Patchy blowing dust before 3pm. Sunny, with a high near 43. Very windy, with a west wind 36 to 46 mph decreasing to 20 to 30 mph. Winds could gust as high as 70 mph. \" class=\"forecast-icon\" src=\"newimages/medium/du.png\" title=\"Monday: Patchy blowing dust before 3pm. Sunny, with a high near 43. Very windy, with a west wind 36 to 46 mph decreasing to 20 to 30 mph. Winds could gust as high as 70 mph. \"/></p><p class=\"temp temp-high\">High: 43 °F</p><p class=\"short-desc\">Patchy<br/>Blowing Dust<br/>and Very<br/>Windy</p></div>, <div class=\"tombstone-container\"><p class=\"period-name\">Monday Night</p><p><img alt=\"Monday Night: Partly cloudy, with a low around 18. West wind 6 to 11 mph becoming light  after midnight. Winds could gust as high as 18 mph. \" class=\"forecast-icon\" src=\"newimages/medium/nsct.png\" title=\"Monday Night: Partly cloudy, with a low around 18. West wind 6 to 11 mph becoming light  after midnight. Winds could gust as high as 18 mph. \"/></p><p class=\"temp temp-low\">Low: 18 °F</p><p class=\"short-desc\">Partly Cloudy</p></div>, <div class=\"tombstone-container\"><p class=\"period-name\">Tuesday</p><p><img alt=\"Tuesday: Mostly sunny, with a high near 36. Calm wind becoming west around 6 mph in the afternoon. \" class=\"forecast-icon\" src=\"newimages/medium/sct.png\" title=\"Tuesday: Mostly sunny, with a high near 36. Calm wind becoming west around 6 mph in the afternoon. \"/></p><p class=\"temp temp-high\">High: 36 °F</p><p class=\"short-desc\">Mostly Sunny</p></div>, <div class=\"tombstone-container\"><p class=\"period-name\">Tuesday Night</p><p><img alt=\"Tuesday Night: Mostly clear, with a low around 16.\" class=\"forecast-icon\" src=\"newimages/medium/nfew.png\" title=\"Tuesday Night: Mostly clear, with a low around 16.\"/></p><p class=\"temp temp-low\">Low: 16 °F</p><p class=\"short-desc\">Mostly Clear</p></div>, <div class=\"tombstone-container\"><p class=\"period-name\">New Year's Day</p><p><img alt=\"New Year's Day: Mostly sunny, with a high near 40.\" class=\"forecast-icon\" src=\"newimages/medium/sct.png\" title=\"New Year's Day: Mostly sunny, with a high near 40.\"/></p><p class=\"temp temp-high\">High: 40 °F</p><p class=\"short-desc\">Mostly Sunny</p></div>, <div class=\"tombstone-container\"><p class=\"period-name\">Wednesday Night</p><p><img alt=\"Wednesday Night: Mostly cloudy, with a low around 25.\" class=\"forecast-icon\" src=\"newimages/medium/nbkn.png\" title=\"Wednesday Night: Mostly cloudy, with a low around 25.\"/></p><p class=\"temp temp-low\">Low: 25 °F</p><p class=\"short-desc\">Mostly Cloudy</p></div>, <div class=\"tombstone-container\"><p class=\"period-name\">Thursday</p><p><img alt=\"Thursday: A slight chance of snow showers before 11am.  Mostly sunny, with a high near 45.\" class=\"forecast-icon\" src=\"DualImage.php?i=sn&amp;j=sct&amp;ip=0\" title=\"Thursday: A slight chance of snow showers before 11am.  Mostly sunny, with a high near 45.\"/></p><p class=\"temp temp-high\">High: 45 °F</p><p class=\"short-desc\">Slight Chance<br/>Snow Showers<br/>then Mostly<br/>Sunny</p></div>]\n"
          ]
        }
      ],
      "source": [
        "import requests\n",
        "from bs4 import BeautifulSoup\n",
        "\n",
        "page = requests.get(\"https://forecast.weather.gov/MapClick.php?lat=40.0466&lon=-105.2523#.YwpRBy2B1f0\")\n",
        "soup = BeautifulSoup(page.content, 'html.parser')\n",
        "seven_day = soup.find(id=\"seven-day-forecast\")\n",
        "forecast_items = seven_day.find_all(class_=\"tombstone-container\")\n",
        "print(forecast_items)"
      ]
    },
    {
      "cell_type": "code",
      "execution_count": 2,
      "metadata": {
        "cell_id": "c0d9be8e7b574a0cad3d909e23f9f061",
        "colab": {
          "base_uri": "https://localhost:8080/"
        },
        "deepnote_app_coordinates": {
          "h": 4,
          "w": 12,
          "x": 0,
          "y": 369
        },
        "deepnote_cell_type": "code",
        "deepnote_to_be_reexecuted": false,
        "execution_millis": 11,
        "execution_start": 1661620629617,
        "id": "Qo7-VB5BjWX6",
        "outputId": "1dcd8848-eb1a-4188-f9de-f0c92e0949c3",
        "source_hash": "dab7524f"
      },
      "outputs": [
        {
          "name": "stdout",
          "output_type": "stream",
          "text": [
            "<div class=\"tombstone-container\">\n",
            " <p class=\"period-name\">\n",
            "  Today\n",
            " </p>\n",
            " <p>\n",
            "  <img alt=\"Today: Mostly sunny, with a high near 57. Breezy, with a west wind 15 to 20 mph. \" class=\"forecast-icon\" src=\"newimages/medium/wind_sct.png\" title=\"Today: Mostly sunny, with a high near 57. Breezy, with a west wind 15 to 20 mph. \"/>\n",
            " </p>\n",
            " <p class=\"temp temp-high\">\n",
            "  High: 57 °F\n",
            " </p>\n",
            " <p class=\"short-desc\">\n",
            "  Mostly Sunny\n",
            "  <br/>\n",
            "  and Breezy\n",
            " </p>\n",
            "</div>\n",
            "\n"
          ]
        }
      ],
      "source": [
        "tonight = forecast_items[0]\n",
        "print(tonight.prettify())"
      ]
    },
    {
      "cell_type": "markdown",
      "metadata": {
        "cell_id": "52eb0fafd4e84ea7a9836a53023a43f0",
        "deepnote_app_coordinates": {
          "h": 9,
          "w": 12,
          "x": 0,
          "y": 374
        },
        "deepnote_cell_type": "markdown",
        "id": "hLFpL7IMjwl7"
      },
      "source": [
        "### Extracting information of tonight\n",
        "\n",
        "As we can see, inside the forecast item tonight is all the information we want. There are four pieces of information we can extract:\n",
        "\n",
        "*  The name of the forecast item — in this case, Tonight.\n",
        "*  The description of the conditions — this is stored in the title property of img.\n",
        "*  A short description of the conditions — in this case, Sunny and hot.\n",
        "*  The temperature hight — in this case, 98 degrees.\n"
      ]
    },
    {
      "cell_type": "markdown",
      "metadata": {
        "cell_id": "9026b40de2cf4dbaba6f8d193b5e46c1",
        "deepnote_app_coordinates": {
          "h": 3,
          "w": 12,
          "x": 0,
          "y": 384
        },
        "deepnote_cell_type": "markdown",
        "id": "fLR0a_e3kHjf"
      },
      "source": [
        "We’ll extract the name of the forecast item, the short description, and the temperature first, since they’re all similar:"
      ]
    },
    {
      "cell_type": "code",
      "execution_count": 3,
      "metadata": {
        "cell_id": "96e421a230b9414d925742e4e0295ccf",
        "colab": {
          "base_uri": "https://localhost:8080/"
        },
        "deepnote_app_coordinates": {
          "h": 6,
          "w": 12,
          "x": 0,
          "y": 388
        },
        "deepnote_cell_type": "code",
        "deepnote_to_be_reexecuted": false,
        "execution_millis": 11,
        "execution_start": 1661620637623,
        "id": "6fEh4HWkjmMG",
        "outputId": "4d372884-f07c-4c80-838c-3e64377a41c6",
        "source_hash": "c867f180"
      },
      "outputs": [
        {
          "name": "stdout",
          "output_type": "stream",
          "text": [
            "Today\n",
            "Mostly Sunnyand Breezy\n",
            "High: 57 °F\n"
          ]
        }
      ],
      "source": [
        "period = tonight.find(class_=\"period-name\").get_text()\n",
        "short_desc = tonight.find(class_=\"short-desc\").get_text()\n",
        "temp = tonight.find(class_=\"temp\").get_text()\n",
        "print(period)\n",
        "print(short_desc)\n",
        "print(temp)"
      ]
    },
    {
      "cell_type": "markdown",
      "metadata": {
        "cell_id": "96fa3c3780154ea8afc9443ae3efb2e6",
        "deepnote_app_coordinates": {
          "h": 3,
          "w": 12,
          "x": 0,
          "y": 395
        },
        "deepnote_cell_type": "markdown",
        "id": "eDSVw88YkMqK"
      },
      "source": [
        "Now, we can extract the title attribute from the img tag. To do this, we just treat the BeautifulSoup object like a dictionary, and pass in the attribute we want as a key:"
      ]
    },
    {
      "cell_type": "code",
      "execution_count": 4,
      "metadata": {
        "cell_id": "908e754bd8594bb8be3c6c6d1776ac95",
        "colab": {
          "base_uri": "https://localhost:8080/"
        },
        "deepnote_app_coordinates": {
          "h": 4,
          "w": 12,
          "x": 0,
          "y": 399
        },
        "deepnote_cell_type": "code",
        "deepnote_to_be_reexecuted": false,
        "execution_millis": 6,
        "execution_start": 1661620643946,
        "id": "sgyrJ_GfkOeM",
        "outputId": "2f32c414-a882-4666-a11a-66c1809f2d39",
        "source_hash": "8f44e713"
      },
      "outputs": [
        {
          "name": "stdout",
          "output_type": "stream",
          "text": [
            "Today: Mostly sunny, with a high near 57. Breezy, with a west wind 15 to 20 mph. \n"
          ]
        }
      ],
      "source": [
        "img = tonight.find(\"img\")\n",
        "desc = img['title']\n",
        "print(desc)"
      ]
    },
    {
      "cell_type": "markdown",
      "metadata": {
        "cell_id": "a51b362cde7040a0bc2ce60499448de5",
        "deepnote_app_coordinates": {
          "h": 9,
          "w": 12,
          "x": 0,
          "y": 404
        },
        "deepnote_cell_type": "markdown",
        "id": "bxCv09NukUSm"
      },
      "source": [
        "### Extract all nights!\n",
        "\n",
        "Now that we know how to extract each individual piece of information, we can combine our knowledge with CSS selectors and list comprehensions to extract everything at once.\n",
        "\n",
        "In the below code, we will:\n",
        "\n",
        "Select all items with the class period-name inside an item with the class tombstone-container in seven_day.\n",
        "Use a list comprehension to call the get_text method on each BeautifulSoup object."
      ]
    },
    {
      "cell_type": "code",
      "execution_count": 5,
      "metadata": {
        "cell_id": "be2ffebb19b64eebb1e178a8db8632bd",
        "colab": {
          "base_uri": "https://localhost:8080/"
        },
        "deepnote_app_coordinates": {
          "h": 4,
          "w": 12,
          "x": 0,
          "y": 414
        },
        "deepnote_cell_type": "code",
        "deepnote_to_be_reexecuted": false,
        "execution_millis": 3,
        "execution_start": 1661620650090,
        "id": "k1lPTK_3kbMB",
        "outputId": "d359281c-3859-43a6-f813-247d73b8cb04",
        "source_hash": "59401f6e"
      },
      "outputs": [
        {
          "data": {
            "text/plain": [
              "['Today',\n",
              " 'Tonight',\n",
              " 'Monday',\n",
              " 'Monday Night',\n",
              " 'Tuesday',\n",
              " 'Tuesday Night',\n",
              " \"New Year's Day\",\n",
              " 'Wednesday Night',\n",
              " 'Thursday']"
            ]
          },
          "execution_count": 5,
          "metadata": {},
          "output_type": "execute_result"
        }
      ],
      "source": [
        "period_tags = seven_day.select(\".tombstone-container .period-name\")\n",
        "periods = [pt.get_text() for pt in period_tags]\n",
        "periods"
      ]
    },
    {
      "cell_type": "markdown",
      "metadata": {
        "cell_id": "c3ab2af7b2914b4699358dd24e3c52b8",
        "deepnote_app_coordinates": {
          "h": 4,
          "w": 12,
          "x": 0,
          "y": 419
        },
        "deepnote_cell_type": "markdown",
        "id": "KEOoYqutkhmo"
      },
      "source": [
        "As we can see above, our technique gets us each of the period names, in order.\n",
        "\n",
        "We can apply the same technique to get the other three fields:"
      ]
    },
    {
      "cell_type": "code",
      "execution_count": 6,
      "metadata": {
        "cell_id": "6c5c3b20f4ab42299ee11ce559ab1293",
        "colab": {
          "base_uri": "https://localhost:8080/"
        },
        "deepnote_app_coordinates": {
          "h": 7,
          "w": 12,
          "x": 0,
          "y": 424
        },
        "deepnote_cell_type": "code",
        "deepnote_to_be_reexecuted": false,
        "execution_millis": 4,
        "execution_start": 1661620655333,
        "id": "sufPJ-lWkiRq",
        "outputId": "e25b92e8-bb7b-4e0f-9254-8be9626ddbda",
        "source_hash": "68c33df"
      },
      "outputs": [
        {
          "name": "stdout",
          "output_type": "stream",
          "text": [
            "['Mostly Sunnyand Breezy', 'Windy. ChanceShowers thenChanceRain/Snow', 'PatchyBlowing Dustand VeryWindy', 'Partly Cloudy', 'Mostly Sunny', 'Mostly Clear', 'Mostly Sunny', 'Mostly Cloudy', 'Slight ChanceSnow Showersthen MostlySunny']\n",
            "['High: 57 °F', 'Low: 34 °F', 'High: 43 °F', 'Low: 18 °F', 'High: 36 °F', 'Low: 16 °F', 'High: 40 °F', 'Low: 25 °F', 'High: 45 °F']\n",
            "['Today: Mostly sunny, with a high near 57. Breezy, with a west wind 15 to 20 mph. ', 'Tonight: A chance of rain showers after 11pm, mixing with snow after 4am.  Partly cloudy, with a low around 34. Windy, with a west wind 14 to 19 mph increasing to 27 to 32 mph after midnight.  Chance of precipitation is 30%. Little or no snow accumulation expected. ', 'Monday: Patchy blowing dust before 3pm. Sunny, with a high near 43. Very windy, with a west wind 36 to 46 mph decreasing to 20 to 30 mph. Winds could gust as high as 70 mph. ', 'Monday Night: Partly cloudy, with a low around 18. West wind 6 to 11 mph becoming light  after midnight. Winds could gust as high as 18 mph. ', 'Tuesday: Mostly sunny, with a high near 36. Calm wind becoming west around 6 mph in the afternoon. ', 'Tuesday Night: Mostly clear, with a low around 16.', \"New Year's Day: Mostly sunny, with a high near 40.\", 'Wednesday Night: Mostly cloudy, with a low around 25.', 'Thursday: A slight chance of snow showers before 11am.  Mostly sunny, with a high near 45.']\n"
          ]
        }
      ],
      "source": [
        "short_descs = [sd.get_text() for sd in seven_day.select(\".tombstone-container .short-desc\")]\n",
        "temps = [t.get_text() for t in seven_day.select(\".tombstone-container .temp\")]\n",
        "descs = [d[\"title\"] for d in seven_day.select(\".tombstone-container img\")]\n",
        "\n",
        "print(short_descs)\n",
        "print(temps)\n",
        "print(descs)"
      ]
    },
    {
      "cell_type": "markdown",
      "metadata": {
        "cell_id": "9da320f99c80408e93030e8c3f349a20",
        "deepnote_app_coordinates": {
          "h": 9,
          "w": 12,
          "x": 0,
          "y": 432
        },
        "deepnote_cell_type": "markdown",
        "id": "OC3St8YOk1kg"
      },
      "source": [
        "### Deal with data\n",
        "\n",
        "We can now combine the data into a Pandas DataFrame and analyze it. A DataFrame is an object that can store tabular data, making data analysis easy. If you want to learn more about Pandas, check out our free to start course here.\n",
        "\n",
        "In order to do this, we’ll call the DataFrame class, and pass in each list of items that we have. We pass them in as part of a dictionary.\n",
        "\n",
        "Each dictionary key will become a column in the DataFrame, and each list will become the values in the column:"
      ]
    },
    {
      "cell_type": "code",
      "execution_count": 7,
      "metadata": {
        "cell_id": "155a61c8b6e1442aadd63f781a39c50b",
        "colab": {
          "base_uri": "https://localhost:8080/",
          "height": 354
        },
        "deepnote_app_coordinates": {
          "h": 8,
          "w": 12,
          "x": 0,
          "y": 442
        },
        "deepnote_cell_type": "code",
        "deepnote_to_be_reexecuted": false,
        "execution_millis": 16,
        "execution_start": 1661620662982,
        "id": "vlwoYt3zlEm7",
        "outputId": "66dea857-5577-4f95-bf00-eb929471b85e",
        "source_hash": "222dcc28"
      },
      "outputs": [
        {
          "data": {
            "text/html": [
              "<div>\n",
              "<style scoped>\n",
              "    .dataframe tbody tr th:only-of-type {\n",
              "        vertical-align: middle;\n",
              "    }\n",
              "\n",
              "    .dataframe tbody tr th {\n",
              "        vertical-align: top;\n",
              "    }\n",
              "\n",
              "    .dataframe thead th {\n",
              "        text-align: right;\n",
              "    }\n",
              "</style>\n",
              "<table border=\"1\" class=\"dataframe\">\n",
              "  <thead>\n",
              "    <tr style=\"text-align: right;\">\n",
              "      <th></th>\n",
              "      <th>period</th>\n",
              "      <th>short_desc</th>\n",
              "      <th>temp</th>\n",
              "      <th>desc</th>\n",
              "    </tr>\n",
              "  </thead>\n",
              "  <tbody>\n",
              "    <tr>\n",
              "      <th>0</th>\n",
              "      <td>Today</td>\n",
              "      <td>Mostly Sunnyand Breezy</td>\n",
              "      <td>High: 57 °F</td>\n",
              "      <td>Today: Mostly sunny, with a high near 57. Bree...</td>\n",
              "    </tr>\n",
              "    <tr>\n",
              "      <th>1</th>\n",
              "      <td>Tonight</td>\n",
              "      <td>Windy. ChanceShowers thenChanceRain/Snow</td>\n",
              "      <td>Low: 34 °F</td>\n",
              "      <td>Tonight: A chance of rain showers after 11pm, ...</td>\n",
              "    </tr>\n",
              "    <tr>\n",
              "      <th>2</th>\n",
              "      <td>Monday</td>\n",
              "      <td>PatchyBlowing Dustand VeryWindy</td>\n",
              "      <td>High: 43 °F</td>\n",
              "      <td>Monday: Patchy blowing dust before 3pm. Sunny,...</td>\n",
              "    </tr>\n",
              "    <tr>\n",
              "      <th>3</th>\n",
              "      <td>Monday Night</td>\n",
              "      <td>Partly Cloudy</td>\n",
              "      <td>Low: 18 °F</td>\n",
              "      <td>Monday Night: Partly cloudy, with a low around...</td>\n",
              "    </tr>\n",
              "    <tr>\n",
              "      <th>4</th>\n",
              "      <td>Tuesday</td>\n",
              "      <td>Mostly Sunny</td>\n",
              "      <td>High: 36 °F</td>\n",
              "      <td>Tuesday: Mostly sunny, with a high near 36. Ca...</td>\n",
              "    </tr>\n",
              "    <tr>\n",
              "      <th>5</th>\n",
              "      <td>Tuesday Night</td>\n",
              "      <td>Mostly Clear</td>\n",
              "      <td>Low: 16 °F</td>\n",
              "      <td>Tuesday Night: Mostly clear, with a low around...</td>\n",
              "    </tr>\n",
              "    <tr>\n",
              "      <th>6</th>\n",
              "      <td>New Year's Day</td>\n",
              "      <td>Mostly Sunny</td>\n",
              "      <td>High: 40 °F</td>\n",
              "      <td>New Year's Day: Mostly sunny, with a high near...</td>\n",
              "    </tr>\n",
              "    <tr>\n",
              "      <th>7</th>\n",
              "      <td>Wednesday Night</td>\n",
              "      <td>Mostly Cloudy</td>\n",
              "      <td>Low: 25 °F</td>\n",
              "      <td>Wednesday Night: Mostly cloudy, with a low aro...</td>\n",
              "    </tr>\n",
              "    <tr>\n",
              "      <th>8</th>\n",
              "      <td>Thursday</td>\n",
              "      <td>Slight ChanceSnow Showersthen MostlySunny</td>\n",
              "      <td>High: 45 °F</td>\n",
              "      <td>Thursday: A slight chance of snow showers befo...</td>\n",
              "    </tr>\n",
              "  </tbody>\n",
              "</table>\n",
              "</div>"
            ],
            "text/plain": [
              "            period                                 short_desc         temp  \\\n",
              "0            Today                     Mostly Sunnyand Breezy  High: 57 °F   \n",
              "1          Tonight   Windy. ChanceShowers thenChanceRain/Snow   Low: 34 °F   \n",
              "2           Monday            PatchyBlowing Dustand VeryWindy  High: 43 °F   \n",
              "3     Monday Night                              Partly Cloudy   Low: 18 °F   \n",
              "4          Tuesday                               Mostly Sunny  High: 36 °F   \n",
              "5    Tuesday Night                               Mostly Clear   Low: 16 °F   \n",
              "6   New Year's Day                               Mostly Sunny  High: 40 °F   \n",
              "7  Wednesday Night                              Mostly Cloudy   Low: 25 °F   \n",
              "8         Thursday  Slight ChanceSnow Showersthen MostlySunny  High: 45 °F   \n",
              "\n",
              "                                                desc  \n",
              "0  Today: Mostly sunny, with a high near 57. Bree...  \n",
              "1  Tonight: A chance of rain showers after 11pm, ...  \n",
              "2  Monday: Patchy blowing dust before 3pm. Sunny,...  \n",
              "3  Monday Night: Partly cloudy, with a low around...  \n",
              "4  Tuesday: Mostly sunny, with a high near 36. Ca...  \n",
              "5  Tuesday Night: Mostly clear, with a low around...  \n",
              "6  New Year's Day: Mostly sunny, with a high near...  \n",
              "7  Wednesday Night: Mostly cloudy, with a low aro...  \n",
              "8  Thursday: A slight chance of snow showers befo...  "
            ]
          },
          "execution_count": 7,
          "metadata": {},
          "output_type": "execute_result"
        }
      ],
      "source": [
        "import pandas as pd\n",
        "weather = pd.DataFrame({\n",
        "    \"period\": periods,\n",
        "    \"short_desc\": short_descs,\n",
        "    \"temp\": temps,\n",
        "    \"desc\":descs\n",
        "})\n",
        "weather"
      ]
    },
    {
      "cell_type": "markdown",
      "metadata": {
        "cell_id": "fa15d93fe54b49589485de11fa68984f",
        "deepnote_app_coordinates": {
          "h": 2,
          "w": 8,
          "x": 0,
          "y": 451
        },
        "deepnote_cell_type": "text-cell-p",
        "formattedRanges": [],
        "id": "ED6QmmQlVDmi",
        "is_collapsed": false,
        "tags": []
      },
      "source": [
        "Now let's save it to CSV."
      ]
    },
    {
      "cell_type": "code",
      "execution_count": 9,
      "metadata": {
        "cell_id": "2d7415004b724dd29cdc5ad9a86ac515",
        "deepnote_app_coordinates": {
          "h": 3,
          "w": 12,
          "x": 0,
          "y": 454
        },
        "deepnote_cell_type": "code",
        "deepnote_to_be_reexecuted": false,
        "execution_millis": 5,
        "execution_start": 1661620795386,
        "id": "GpmeffnuVDmi",
        "source_hash": "482a4e81",
        "tags": []
      },
      "outputs": [],
      "source": [
        "weather.to_csv('Boulder_Weather_7_Days.csv')"
      ]
    },
    {
      "cell_type": "markdown",
      "metadata": {},
      "source": [
        "## Your Task\n",
        "Now use your location, and repeat the process!"
      ]
    },
    {
      "cell_type": "code",
      "execution_count": 10,
      "metadata": {},
      "outputs": [],
      "source": [
        "url = 'https://forecast.weather.gov/MapClick.php?lat=40.6925&lon=-73.991'\n",
        "page = requests.get(url)\n",
        "soup = BeautifulSoup(page.content, 'html.parser')\n",
        "seven_day = soup.find(id=\"seven-day-forecast\")\n",
        "forecast_items = seven_day.find_all(class_=\"tombstone-container\")\n",
        "tonight = forecast_items[0]"
      ]
    },
    {
      "cell_type": "code",
      "execution_count": 11,
      "metadata": {},
      "outputs": [],
      "source": [
        "period = tonight.find(class_=\"period-name\").get_text()\n",
        "short_desc = tonight.find(class_=\"short-desc\").get_text()\n",
        "temp = tonight.find(class_=\"temp\").get_text()"
      ]
    },
    {
      "cell_type": "code",
      "execution_count": 12,
      "metadata": {},
      "outputs": [
        {
          "name": "stdout",
          "output_type": "stream",
          "text": [
            "This Afternoon: A 20 percent chance of showers before 1pm.  Mostly cloudy, with a high near 55. South wind 8 to 11 mph.  \n",
            "\n"
          ]
        },
        {
          "data": {
            "text/plain": [
              "['This Afternoon',\n",
              " 'Tonight',\n",
              " 'Monday',\n",
              " 'Monday Night',\n",
              " 'Tuesday',\n",
              " 'Tuesday Night',\n",
              " \"New Year's Day\",\n",
              " 'Wednesday Night',\n",
              " 'Thursday']"
            ]
          },
          "execution_count": 12,
          "metadata": {},
          "output_type": "execute_result"
        }
      ],
      "source": [
        "img = tonight.find(\"img\")\n",
        "desc = img['title']\n",
        "print(desc,'\\n')\n",
        "\n",
        "period_tags = seven_day.select(\".tombstone-container .period-name\")\n",
        "periods = [pt.get_text() for pt in period_tags]\n",
        "periods\n"
      ]
    },
    {
      "cell_type": "code",
      "execution_count": 13,
      "metadata": {},
      "outputs": [
        {
          "name": "stdout",
          "output_type": "stream",
          "text": [
            "['Slight ChanceShowers', 'ShowersLikely thenHeavy Rainand Breezy', 'Showers thenSunny', 'Mostly Clear', 'Mostly Sunnythen SlightChanceShowers', 'Rain', 'ChanceShowers', 'Mostly Cloudy', 'Mostly Sunny']\n",
            "['High: 55 °F', 'Low: 55 °F', 'High: 56 °F⇓', 'Low: 41 °F', 'High: 52 °F', 'Low: 50 °F', 'High: 51 °F', 'Low: 35 °F', 'High: 41 °F']\n",
            "['This Afternoon: A 20 percent chance of showers before 1pm.  Mostly cloudy, with a high near 55. South wind 8 to 11 mph. ', 'Tonight: Showers, mainly after 10pm. The rain could be heavy at times.  Steady temperature around 55. Breezy, with a south wind 14 to 20 mph.  Chance of precipitation is 100%. New precipitation amounts between a half and three quarters of an inch possible. ', 'Monday: Showers, mainly before 7am.  Temperature falling to around 52 by 5pm. West wind around 14 mph, with gusts as high as 26 mph.  Chance of precipitation is 80%. New precipitation amounts between a tenth and quarter of an inch possible. ', 'Monday Night: Mostly clear, with a low around 41. Southwest wind 6 to 10 mph. ', 'Tuesday: A 20 percent chance of showers after 4pm.  Increasing clouds, with a high near 52. Light and variable wind becoming southeast 5 to 10 mph in the morning. ', 'Tuesday Night: Rain.  Steady temperature around 50. Chance of precipitation is 90%. New precipitation amounts between a quarter and half of an inch possible. ', \"New Year's Day: A 50 percent chance of showers.  Mostly cloudy, with a high near 51.\", 'Wednesday Night: Mostly cloudy, with a low around 35.', 'Thursday: Mostly sunny, with a high near 41.']\n"
          ]
        }
      ],
      "source": [
        "short_descs = [sd.get_text() for sd in seven_day.select(\".tombstone-container .short-desc\")]\n",
        "temps = [t.get_text() for t in seven_day.select(\".tombstone-container .temp\")]\n",
        "descs = [d[\"title\"] for d in seven_day.select(\".tombstone-container img\")]\n",
        "\n",
        "print(short_descs)\n",
        "print(temps)\n",
        "print(descs)"
      ]
    },
    {
      "cell_type": "code",
      "execution_count": 14,
      "metadata": {},
      "outputs": [
        {
          "data": {
            "text/html": [
              "<div>\n",
              "<style scoped>\n",
              "    .dataframe tbody tr th:only-of-type {\n",
              "        vertical-align: middle;\n",
              "    }\n",
              "\n",
              "    .dataframe tbody tr th {\n",
              "        vertical-align: top;\n",
              "    }\n",
              "\n",
              "    .dataframe thead th {\n",
              "        text-align: right;\n",
              "    }\n",
              "</style>\n",
              "<table border=\"1\" class=\"dataframe\">\n",
              "  <thead>\n",
              "    <tr style=\"text-align: right;\">\n",
              "      <th></th>\n",
              "      <th>period</th>\n",
              "      <th>short_desc</th>\n",
              "      <th>temp</th>\n",
              "      <th>desc</th>\n",
              "    </tr>\n",
              "  </thead>\n",
              "  <tbody>\n",
              "    <tr>\n",
              "      <th>0</th>\n",
              "      <td>This Afternoon</td>\n",
              "      <td>Slight ChanceShowers</td>\n",
              "      <td>High: 55 °F</td>\n",
              "      <td>This Afternoon: A 20 percent chance of showers...</td>\n",
              "    </tr>\n",
              "    <tr>\n",
              "      <th>1</th>\n",
              "      <td>Tonight</td>\n",
              "      <td>ShowersLikely thenHeavy Rainand Breezy</td>\n",
              "      <td>Low: 55 °F</td>\n",
              "      <td>Tonight: Showers, mainly after 10pm. The rain ...</td>\n",
              "    </tr>\n",
              "    <tr>\n",
              "      <th>2</th>\n",
              "      <td>Monday</td>\n",
              "      <td>Showers thenSunny</td>\n",
              "      <td>High: 56 °F⇓</td>\n",
              "      <td>Monday: Showers, mainly before 7am.  Temperatu...</td>\n",
              "    </tr>\n",
              "    <tr>\n",
              "      <th>3</th>\n",
              "      <td>Monday Night</td>\n",
              "      <td>Mostly Clear</td>\n",
              "      <td>Low: 41 °F</td>\n",
              "      <td>Monday Night: Mostly clear, with a low around ...</td>\n",
              "    </tr>\n",
              "    <tr>\n",
              "      <th>4</th>\n",
              "      <td>Tuesday</td>\n",
              "      <td>Mostly Sunnythen SlightChanceShowers</td>\n",
              "      <td>High: 52 °F</td>\n",
              "      <td>Tuesday: A 20 percent chance of showers after ...</td>\n",
              "    </tr>\n",
              "    <tr>\n",
              "      <th>5</th>\n",
              "      <td>Tuesday Night</td>\n",
              "      <td>Rain</td>\n",
              "      <td>Low: 50 °F</td>\n",
              "      <td>Tuesday Night: Rain.  Steady temperature aroun...</td>\n",
              "    </tr>\n",
              "    <tr>\n",
              "      <th>6</th>\n",
              "      <td>New Year's Day</td>\n",
              "      <td>ChanceShowers</td>\n",
              "      <td>High: 51 °F</td>\n",
              "      <td>New Year's Day: A 50 percent chance of showers...</td>\n",
              "    </tr>\n",
              "    <tr>\n",
              "      <th>7</th>\n",
              "      <td>Wednesday Night</td>\n",
              "      <td>Mostly Cloudy</td>\n",
              "      <td>Low: 35 °F</td>\n",
              "      <td>Wednesday Night: Mostly cloudy, with a low aro...</td>\n",
              "    </tr>\n",
              "    <tr>\n",
              "      <th>8</th>\n",
              "      <td>Thursday</td>\n",
              "      <td>Mostly Sunny</td>\n",
              "      <td>High: 41 °F</td>\n",
              "      <td>Thursday: Mostly sunny, with a high near 41.</td>\n",
              "    </tr>\n",
              "  </tbody>\n",
              "</table>\n",
              "</div>"
            ],
            "text/plain": [
              "            period                              short_desc          temp  \\\n",
              "0   This Afternoon                    Slight ChanceShowers   High: 55 °F   \n",
              "1          Tonight  ShowersLikely thenHeavy Rainand Breezy    Low: 55 °F   \n",
              "2           Monday                       Showers thenSunny  High: 56 °F⇓   \n",
              "3     Monday Night                            Mostly Clear    Low: 41 °F   \n",
              "4          Tuesday    Mostly Sunnythen SlightChanceShowers   High: 52 °F   \n",
              "5    Tuesday Night                                    Rain    Low: 50 °F   \n",
              "6   New Year's Day                           ChanceShowers   High: 51 °F   \n",
              "7  Wednesday Night                           Mostly Cloudy    Low: 35 °F   \n",
              "8         Thursday                            Mostly Sunny   High: 41 °F   \n",
              "\n",
              "                                                desc  \n",
              "0  This Afternoon: A 20 percent chance of showers...  \n",
              "1  Tonight: Showers, mainly after 10pm. The rain ...  \n",
              "2  Monday: Showers, mainly before 7am.  Temperatu...  \n",
              "3  Monday Night: Mostly clear, with a low around ...  \n",
              "4  Tuesday: A 20 percent chance of showers after ...  \n",
              "5  Tuesday Night: Rain.  Steady temperature aroun...  \n",
              "6  New Year's Day: A 50 percent chance of showers...  \n",
              "7  Wednesday Night: Mostly cloudy, with a low aro...  \n",
              "8       Thursday: Mostly sunny, with a high near 41.  "
            ]
          },
          "execution_count": 14,
          "metadata": {},
          "output_type": "execute_result"
        }
      ],
      "source": [
        "import pandas as pd\n",
        "weather = pd.DataFrame({\n",
        "    \"period\": periods,\n",
        "    \"short_desc\": short_descs,\n",
        "    \"temp\": temps,\n",
        "    \"desc\":descs\n",
        "})\n",
        "weather"
      ]
    },
    {
      "cell_type": "code",
      "execution_count": 16,
      "metadata": {},
      "outputs": [],
      "source": [
        "weather.to_csv('Brooklyn_Weather_7_Days.csv', index=False)"
      ]
    }
  ],
  "metadata": {
    "colab": {
      "provenance": [],
      "toc_visible": true
    },
    "kernelspec": {
      "display_name": "base",
      "language": "python",
      "name": "python3"
    },
    "language_info": {
      "codemirror_mode": {
        "name": "ipython",
        "version": 3
      },
      "file_extension": ".py",
      "mimetype": "text/x-python",
      "name": "python",
      "nbconvert_exporter": "python",
      "pygments_lexer": "ipython3",
      "version": "3.12.3"
    }
  },
  "nbformat": 4,
  "nbformat_minor": 0
}
