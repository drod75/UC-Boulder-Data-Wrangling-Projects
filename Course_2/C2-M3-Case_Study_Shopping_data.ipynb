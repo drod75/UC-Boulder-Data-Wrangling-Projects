{
  "cells": [
    {
      "cell_type": "markdown",
      "metadata": {
        "id": "isB3LHrRLoqM"
      },
      "source": [
        "# Collect Shopping Data from SQLite\n",
        "Now you have learned how to collect data from a SQLite databse. Let's practice!\n",
        "\n",
        "The attached `shopping.sqlite` file contains a dummy shopping dataset. Try to use your knowledge of collecting data from a SQL database, and retrieve information from it."
      ]
    },
    {
      "cell_type": "markdown",
      "metadata": {
        "id": "36BGG2bIMRFB"
      },
      "source": [
        "## Establish the connection"
      ]
    },
    {
      "cell_type": "code",
      "execution_count": 1,
      "metadata": {
        "colab": {
          "base_uri": "https://localhost:8080/"
        },
        "id": "zo0xbd5FMB3M",
        "outputId": "992320fd-7b79-4796-d060-bd285821f8f8"
      },
      "outputs": [
        {
          "data": {
            "text/plain": [
              "[('customer_shopping_data',)]"
            ]
          },
          "execution_count": 1,
          "metadata": {},
          "output_type": "execute_result"
        }
      ],
      "source": [
        "import sqlite3\n",
        "\n",
        "connection = sqlite3.connect('shopping.sqlite')\n",
        "cursor = connection.cursor()\n",
        "\n",
        "query = '''\n",
        "SELECT name FROM sqlite_master\n",
        "WHERE type='table';\n",
        "'''\n",
        "\n",
        "cursor.execute(query)\n",
        "results = cursor.fetchall()\n",
        "results"
      ]
    },
    {
      "cell_type": "markdown",
      "metadata": {
        "id": "KV626FJlMTqr"
      },
      "source": [
        "## Retrieve information from the database"
      ]
    },
    {
      "cell_type": "code",
      "execution_count": 2,
      "metadata": {
        "colab": {
          "base_uri": "https://localhost:8080/"
        },
        "id": "yH5tYcI4MXWK",
        "outputId": "d58a6172-8675-4b78-bea5-438925d86540"
      },
      "outputs": [
        {
          "data": {
            "text/plain": [
              "[('I138884',\n",
              "  'C241288',\n",
              "  'Female',\n",
              "  28,\n",
              "  'Clothing',\n",
              "  5,\n",
              "  1500.4,\n",
              "  'Credit Card',\n",
              "  '5/8/2022',\n",
              "  'Kanyon'),\n",
              " ('I317333',\n",
              "  'C111565',\n",
              "  'Male',\n",
              "  21,\n",
              "  'Shoes',\n",
              "  3,\n",
              "  1800.51,\n",
              "  'Debit Card',\n",
              "  '12/12/2021',\n",
              "  'Forum Istanbul'),\n",
              " ('I127801',\n",
              "  'C266599',\n",
              "  'Male',\n",
              "  20,\n",
              "  'Clothing',\n",
              "  1,\n",
              "  300.08,\n",
              "  'Cash',\n",
              "  '9/11/2021',\n",
              "  'Metrocity')]"
            ]
          },
          "execution_count": 2,
          "metadata": {},
          "output_type": "execute_result"
        }
      ],
      "source": [
        "query = '''SELECT *\n",
        "FROM customer_shopping_data\n",
        "Limit 3'''\n",
        "\n",
        "cursor.execute(query)\n",
        "results = cursor.fetchall()\n",
        "results"
      ]
    },
    {
      "cell_type": "markdown",
      "metadata": {
        "id": "gN_bMP-cPi2W"
      },
      "source": [
        "### Fetch all records."
      ]
    },
    {
      "cell_type": "code",
      "execution_count": 3,
      "metadata": {
        "id": "VHUsODgqPqdW"
      },
      "outputs": [],
      "source": [
        "query = '''SELECT *\n",
        "FROM customer_shopping_data\n",
        "'''\n",
        "\n",
        "cursor.execute(query)\n",
        "results = cursor.fetchall()"
      ]
    },
    {
      "cell_type": "markdown",
      "metadata": {
        "id": "szyQiZpINNFn"
      },
      "source": [
        "## Columns' names\n",
        "\n",
        "We learned that the missing columns' names are:\n",
        "`['invoice_no',\n",
        "'customer_id',\n",
        "'gender',\n",
        "'age',\n",
        "'category',\n",
        "'quantity',\n",
        "'price',\n",
        "'payment_method',\n",
        "'invoice_date',\n",
        "'shopping_mall']`.\n",
        "\n",
        "Combine this information and create a DataFrame of the shopping data, then save it to a CSV file for later use."
      ]
    },
    {
      "cell_type": "code",
      "execution_count": 4,
      "metadata": {
        "id": "xHjlGypSNMO9"
      },
      "outputs": [],
      "source": [
        "cols = ['invoice_no',\n",
        "        'customer_id',\n",
        "        'gender',\n",
        "        'age',\n",
        "        'category',\n",
        "        'quantity',\n",
        "        'price',\n",
        "        'payment_method',\n",
        "        'invoice_date',\n",
        "        'shopping_mall']"
      ]
    },
    {
      "cell_type": "code",
      "execution_count": 5,
      "metadata": {
        "id": "Xi-8T0T7OSnR"
      },
      "outputs": [],
      "source": [
        "import pandas as pd"
      ]
    },
    {
      "cell_type": "code",
      "execution_count": 6,
      "metadata": {
        "colab": {
          "base_uri": "https://localhost:8080/"
        },
        "id": "roJSr9PuOEqi",
        "outputId": "e9c2ba72-3714-4379-e71b-aed724af5c0a"
      },
      "outputs": [
        {
          "name": "stdout",
          "output_type": "stream",
          "text": [
            "<class 'pandas.core.frame.DataFrame'>\n",
            "RangeIndex: 16029 entries, 0 to 16028\n",
            "Data columns (total 10 columns):\n",
            " #   Column          Non-Null Count  Dtype  \n",
            "---  ------          --------------  -----  \n",
            " 0   invoice_no      16029 non-null  object \n",
            " 1   customer_id     16029 non-null  object \n",
            " 2   gender          16029 non-null  object \n",
            " 3   age             16029 non-null  int64  \n",
            " 4   category        16029 non-null  object \n",
            " 5   quantity        16029 non-null  int64  \n",
            " 6   price           16029 non-null  float64\n",
            " 7   payment_method  16029 non-null  object \n",
            " 8   invoice_date    16029 non-null  object \n",
            " 9   shopping_mall   16029 non-null  object \n",
            "dtypes: float64(1), int64(2), object(7)\n",
            "memory usage: 1.2+ MB\n"
          ]
        }
      ],
      "source": [
        "df = pd.DataFrame(results, columns= cols)\n",
        "df.info()"
      ]
    },
    {
      "cell_type": "code",
      "execution_count": 7,
      "metadata": {
        "colab": {
          "base_uri": "https://localhost:8080/",
          "height": 270
        },
        "id": "cwWrjibOOy4n",
        "outputId": "16c38a62-097e-41af-adc9-ab15b967e8ed"
      },
      "outputs": [
        {
          "data": {
            "text/html": [
              "<div>\n",
              "<style scoped>\n",
              "    .dataframe tbody tr th:only-of-type {\n",
              "        vertical-align: middle;\n",
              "    }\n",
              "\n",
              "    .dataframe tbody tr th {\n",
              "        vertical-align: top;\n",
              "    }\n",
              "\n",
              "    .dataframe thead th {\n",
              "        text-align: right;\n",
              "    }\n",
              "</style>\n",
              "<table border=\"1\" class=\"dataframe\">\n",
              "  <thead>\n",
              "    <tr style=\"text-align: right;\">\n",
              "      <th></th>\n",
              "      <th>invoice_no</th>\n",
              "      <th>customer_id</th>\n",
              "      <th>gender</th>\n",
              "      <th>age</th>\n",
              "      <th>category</th>\n",
              "      <th>quantity</th>\n",
              "      <th>price</th>\n",
              "      <th>payment_method</th>\n",
              "      <th>invoice_date</th>\n",
              "      <th>shopping_mall</th>\n",
              "    </tr>\n",
              "  </thead>\n",
              "  <tbody>\n",
              "    <tr>\n",
              "      <th>0</th>\n",
              "      <td>I138884</td>\n",
              "      <td>C241288</td>\n",
              "      <td>Female</td>\n",
              "      <td>28</td>\n",
              "      <td>Clothing</td>\n",
              "      <td>5</td>\n",
              "      <td>1500.40</td>\n",
              "      <td>Credit Card</td>\n",
              "      <td>5/8/2022</td>\n",
              "      <td>Kanyon</td>\n",
              "    </tr>\n",
              "    <tr>\n",
              "      <th>1</th>\n",
              "      <td>I317333</td>\n",
              "      <td>C111565</td>\n",
              "      <td>Male</td>\n",
              "      <td>21</td>\n",
              "      <td>Shoes</td>\n",
              "      <td>3</td>\n",
              "      <td>1800.51</td>\n",
              "      <td>Debit Card</td>\n",
              "      <td>12/12/2021</td>\n",
              "      <td>Forum Istanbul</td>\n",
              "    </tr>\n",
              "    <tr>\n",
              "      <th>2</th>\n",
              "      <td>I127801</td>\n",
              "      <td>C266599</td>\n",
              "      <td>Male</td>\n",
              "      <td>20</td>\n",
              "      <td>Clothing</td>\n",
              "      <td>1</td>\n",
              "      <td>300.08</td>\n",
              "      <td>Cash</td>\n",
              "      <td>9/11/2021</td>\n",
              "      <td>Metrocity</td>\n",
              "    </tr>\n",
              "    <tr>\n",
              "      <th>3</th>\n",
              "      <td>I173702</td>\n",
              "      <td>C988172</td>\n",
              "      <td>Female</td>\n",
              "      <td>66</td>\n",
              "      <td>Shoes</td>\n",
              "      <td>5</td>\n",
              "      <td>3000.85</td>\n",
              "      <td>Credit Card</td>\n",
              "      <td>16/05/2021</td>\n",
              "      <td>Metropol AVM</td>\n",
              "    </tr>\n",
              "    <tr>\n",
              "      <th>4</th>\n",
              "      <td>I337046</td>\n",
              "      <td>C189076</td>\n",
              "      <td>Female</td>\n",
              "      <td>53</td>\n",
              "      <td>Books</td>\n",
              "      <td>4</td>\n",
              "      <td>60.60</td>\n",
              "      <td>Cash</td>\n",
              "      <td>24/10/2021</td>\n",
              "      <td>Kanyon</td>\n",
              "    </tr>\n",
              "  </tbody>\n",
              "</table>\n",
              "</div>"
            ],
            "text/plain": [
              "  invoice_no customer_id  gender  age  category  quantity    price  \\\n",
              "0    I138884     C241288  Female   28  Clothing         5  1500.40   \n",
              "1    I317333     C111565    Male   21     Shoes         3  1800.51   \n",
              "2    I127801     C266599    Male   20  Clothing         1   300.08   \n",
              "3    I173702     C988172  Female   66     Shoes         5  3000.85   \n",
              "4    I337046     C189076  Female   53     Books         4    60.60   \n",
              "\n",
              "  payment_method invoice_date   shopping_mall  \n",
              "0    Credit Card     5/8/2022          Kanyon  \n",
              "1     Debit Card   12/12/2021  Forum Istanbul  \n",
              "2           Cash    9/11/2021       Metrocity  \n",
              "3    Credit Card   16/05/2021    Metropol AVM  \n",
              "4           Cash   24/10/2021          Kanyon  "
            ]
          },
          "execution_count": 7,
          "metadata": {},
          "output_type": "execute_result"
        }
      ],
      "source": [
        "df.head()"
      ]
    },
    {
      "cell_type": "markdown",
      "metadata": {
        "id": "b7dWzoAMO64-"
      },
      "source": [
        "## Save your retrieve information as a CSV file"
      ]
    },
    {
      "cell_type": "code",
      "execution_count": 9,
      "metadata": {
        "id": "nH8OE4hfOzr1"
      },
      "outputs": [],
      "source": [
        "df.to_csv('shopping.csv', index=False)"
      ]
    },
    {
      "cell_type": "code",
      "execution_count": null,
      "metadata": {},
      "outputs": [],
      "source": []
    }
  ],
  "metadata": {
    "colab": {
      "provenance": [],
      "toc_visible": true
    },
    "kernelspec": {
      "display_name": "base",
      "language": "python",
      "name": "python3"
    },
    "language_info": {
      "codemirror_mode": {
        "name": "ipython",
        "version": 3
      },
      "file_extension": ".py",
      "mimetype": "text/x-python",
      "name": "python",
      "nbconvert_exporter": "python",
      "pygments_lexer": "ipython3",
      "version": "3.12.3"
    }
  },
  "nbformat": 4,
  "nbformat_minor": 0
}
